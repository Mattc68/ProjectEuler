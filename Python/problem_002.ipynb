{
 "cells": [
  {
   "cell_type": "code",
   "execution_count": null,
   "metadata": {},
   "outputs": [],
   "source": [
    "def problem_002(m):\n",
    "    fib1 = 1\n",
    "    fib2 = 2\n",
    "    fib3 = 3\n",
    "    n = 2\n",
    "    \n",
    "    while True:\n",
    "        fib1 = fib2\n",
    "        fib2 = fib3\n",
    "        fib3 = fib2 + fib1\n",
    "        \n",
    "        if fib3 % 2 == 0:\n",
    "            n += fib3\n",
    "            \n",
    "        if fib3 > m:\n",
    "            break\n",
    "            \n",
    "    return n"
   ]
  },
  {
   "cell_type": "code",
   "execution_count": null,
   "metadata": {},
   "outputs": [],
   "source": [
    "problem_002(4000000)"
   ]
  }
 ],
 "metadata": {
  "kernelspec": {
   "display_name": "Python 3",
   "language": "python",
   "name": "python3"
  },
  "language_info": {
   "codemirror_mode": {
    "name": "ipython",
    "version": 3
   },
   "file_extension": ".py",
   "mimetype": "text/x-python",
   "name": "python",
   "nbconvert_exporter": "python",
   "pygments_lexer": "ipython3",
   "version": "3.6.6"
  }
 },
 "nbformat": 4,
 "nbformat_minor": 2
}
